{
 "cells": [
  {
   "cell_type": "code",
   "execution_count": 1,
   "metadata": {},
   "outputs": [],
   "source": [
    "class Card:\n",
    "    def __init__(self, value, suit, visible=False, bonus=False):\n",
    "        \"\"\"\n",
    "        Initialize a card with given value, suit, visibility, and bonus status.\n",
    "        \n",
    "        Parameters:\n",
    "        - value (int): The rank of the card (1 to 13, where 1 = Ace and 13 = King).\n",
    "        - suit (int): The suit of the card (1 to 4).\n",
    "        - visible (bool): Whether the card is face-up.\n",
    "        - bonus (bool): Whether this card has been given a bonus for moving to the foundation.\n",
    "        \"\"\"\n",
    "        self.value = value  # 1 to 13\n",
    "        self.suit = suit  # 1 to 4, even suits are red, odd are black\n",
    "        # 1 - ♣ (clubs)\n",
    "        # 2 - ♦ (diamonds)\n",
    "        # 3 - ♠ (spades)\n",
    "        # 4 - ♥ (hearts) \n",
    "        self.visible = visible  # Face-up or face-down\n",
    "        self.bonus = bonus  # Bonus flag to prevent duplicate rewards\n",
    "\n",
    "    def __repr__(self):\n",
    "        visibility = \"Visible\" if self.visible else \"Hidden\"\n",
    "        return f\"Card(value={self.value}, suit={self.suit}, {visibility}, bonus={self.bonus})\"\n"
   ]
  },
  {
   "cell_type": "code",
   "execution_count": 7,
   "metadata": {},
   "outputs": [
    {
     "name": "stdout",
     "output_type": "stream",
     "text": [
      "Requirement already satisfied: gym in c:\\users\\gachi\\appdata\\local\\programs\\python\\python310\\lib\\site-packages (0.26.2)\n",
      "Requirement already satisfied: cloudpickle>=1.2.0 in c:\\users\\gachi\\appdata\\local\\programs\\python\\python310\\lib\\site-packages (from gym) (3.1.0)\n",
      "Requirement already satisfied: numpy>=1.18.0 in c:\\users\\gachi\\appdata\\local\\programs\\python\\python310\\lib\\site-packages (from gym) (1.26.4)\n",
      "Requirement already satisfied: gym-notices>=0.0.4 in c:\\users\\gachi\\appdata\\local\\programs\\python\\python310\\lib\\site-packages (from gym) (0.0.8)\n",
      "Note: you may need to restart the kernel to use updated packages.\n"
     ]
    },
    {
     "name": "stderr",
     "output_type": "stream",
     "text": [
      "\n",
      "[notice] A new release of pip is available: 23.0.1 -> 24.3.1\n",
      "[notice] To update, run: python.exe -m pip install --upgrade pip\n"
     ]
    }
   ],
   "source": [
    "%pip install gym"
   ]
  },
  {
   "cell_type": "code",
   "execution_count": 67,
   "metadata": {},
   "outputs": [
    {
     "name": "stdout",
     "output_type": "stream",
     "text": [
      "Requirement already satisfied: rich in c:\\users\\gachi\\appdata\\local\\programs\\python\\python310\\lib\\site-packages (13.7.1)"
     ]
    },
    {
     "name": "stderr",
     "output_type": "stream",
     "text": [
      "\n"
     ]
    },
    {
     "name": "stdout",
     "output_type": "stream",
     "text": [
      "\n"
     ]
    },
    {
     "name": "stderr",
     "output_type": "stream",
     "text": [
      "[notice] A new release of pip is available: 23.0.1 -> 24.3.1"
     ]
    },
    {
     "name": "stdout",
     "output_type": "stream",
     "text": [
      "Requirement already satisfied: pygments<3.0.0,>=2.13.0 in c:\\users\\gachi\\appdata\\local\\programs\\python\\python310\\lib\\site-packages (from rich) (2.18.0)"
     ]
    },
    {
     "name": "stderr",
     "output_type": "stream",
     "text": [
      "\n",
      "[notice] To update, run: python.exe -m pip install --upgrade pip"
     ]
    },
    {
     "name": "stdout",
     "output_type": "stream",
     "text": [
      "\n"
     ]
    },
    {
     "name": "stderr",
     "output_type": "stream",
     "text": [
      "\n"
     ]
    },
    {
     "name": "stdout",
     "output_type": "stream",
     "text": [
      "Requirement already satisfied: markdown-it-py>=2.2.0 in c:\\users\\gachi\\appdata\\local\\programs\\python\\python310\\lib\\site-packages (from rich) (3.0.0)\n",
      "Note: you may need to restart the kernel to use updated packages.Requirement already satisfied: mdurl~=0.1 in c:\\users\\gachi\\appdata\\local\\programs\\python\\python310\\lib\\site-packages (from markdown-it-py>=2.2.0->rich) (0.1.2)\n",
      "\n"
     ]
    }
   ],
   "source": [
    "%pip install rich"
   ]
  },
  {
   "cell_type": "code",
   "execution_count": 2,
   "metadata": {},
   "outputs": [
    {
     "data": {
      "text/html": [
       "<pre style=\"white-space:pre;overflow-x:auto;line-height:normal;font-family:Menlo,'DejaVu Sans Mono',consolas,'Courier New',monospace\"><span style=\"color: #800000; text-decoration-color: #800000; font-weight: bold\">This is red text</span>\n",
       "</pre>\n"
      ],
      "text/plain": [
       "\u001b[1;31mThis is red text\u001b[0m\n"
      ]
     },
     "metadata": {},
     "output_type": "display_data"
    },
    {
     "data": {
      "text/html": [
       "<pre style=\"white-space:pre;overflow-x:auto;line-height:normal;font-family:Menlo,'DejaVu Sans Mono',consolas,'Courier New',monospace\"><span style=\"color: #000000; text-decoration-color: #000000\">This is green text</span>\n",
       "</pre>\n"
      ],
      "text/plain": [
       "\u001b[30mThis is green text\u001b[0m\n"
      ]
     },
     "metadata": {},
     "output_type": "display_data"
    },
    {
     "data": {
      "text/html": [
       "<pre style=\"white-space:pre;overflow-x:auto;line-height:normal;font-family:Menlo,'DejaVu Sans Mono',consolas,'Courier New',monospace\"><span style=\"color: #000080; text-decoration-color: #000080; background-color: #808000; font-weight: bold\">This is blue text on yellow background</span>\n",
       "</pre>\n"
      ],
      "text/plain": [
       "\u001b[1;34;43mThis is blue text on yellow background\u001b[0m\n"
      ]
     },
     "metadata": {},
     "output_type": "display_data"
    }
   ],
   "source": [
    "from rich.console import Console\n",
    "\n",
    "# Create a Console object\n",
    "console = Console()\n",
    "\n",
    "# Print colored text\n",
    "console.print(\"This is red text\", style=\"bold red\")\n",
    "console.print(\"This is green text\", style=\"black\")\n",
    "console.print(\"This is blue text on yellow background\", style=\"bold blue on yellow\")\n"
   ]
  },
  {
   "cell_type": "code",
   "execution_count": null,
   "metadata": {},
   "outputs": [],
   "source": [
    "import gym\n",
    "from gym import spaces\n",
    "import random\n",
    "from rich.console import Console\n",
    "from rich.text import Text\n",
    "\n",
    "# Initialize a Console object from the rich library for printing with styles\n",
    "console = Console()\n",
    "\n",
    "class SolitaireEnv(gym.Env):\n",
    "    def __init__(self):\n",
    "        super(SolitaireEnv, self).__init__()\n",
    "        # The action space now includes three parts: action type, source column, destination column\n",
    "        self.action_space = spaces.Tuple((\n",
    "            spaces.Discrete(3),    # Action type: 0 (Move within tableau), 1 (Draw card), 2 (Move to foundation)\n",
    "            spaces.Discrete(7),    # Source column (0-6)\n",
    "            spaces.Discrete(7),    # Destination column (0-6)\n",
    "            spaces.Discrete(7),     # Card index (0-6, only used for tableau moves)\n",
    "            spaces.Discrete(4)\n",
    "        ))\n",
    "        # Define observation space with structured tableau, foundation, and draw pile\n",
    "        self.observation_space = spaces.Dict({\n",
    "            'tableau': spaces.MultiDiscrete([53] * 7 * 7),  # 7 columns, each with 7 slots\n",
    "            'foundation': spaces.MultiDiscrete([14, 14, 14, 14]),  # Four foundation piles\n",
    "            'draw_pile': spaces.Discrete(53)  # One card drawn at a time\n",
    "        })\n",
    "\n",
    "        # Track revealed cards from the draw pile\n",
    "        self.revealed_cards = []\n",
    "        self.draw_index = 0  # Tracks current position in draw pile\n",
    "\n",
    "        self.tableau = None\n",
    "        self.foundation = None\n",
    "        self.draw_pile = None\n",
    "        self.done = False\n",
    "        self._reset_game_state()\n",
    "\n",
    "    def _reset_game_state(self):\n",
    "        # Initialize the deck as a list of Card objects\n",
    "        deck = [Card(value, suit) for suit in range(1, 5) for value in range(1, 14)]\n",
    "        random.shuffle(deck)\n",
    "\n",
    "        # Initialize tableau with some cards face-down\n",
    "        self.tableau = [[deck.pop() for _ in range(i + 1)] for i in range(7)]\n",
    "        for col in self.tableau:\n",
    "            for card in col[:-1]:\n",
    "                card.visible = False  # Face-down\n",
    "            col[-1].visible = True  # Top card face-up\n",
    "\n",
    "        # Foundation starts empty\n",
    "        self.foundation = [[] for _ in range(4)]\n",
    "        self.draw_pile = deck  # Remaining cards in the draw pile\n",
    "        self.done = False\n",
    "\n",
    "    def reset(self):\n",
    "        \"\"\"Resets the environment to the initial state.\"\"\"\n",
    "        self._reset_game_state()\n",
    "        return self._get_observation()\n",
    "\n",
    "    def _get_observation(self):\n",
    "        # This function will need to convert the complex Card objects to a simple format for Gym\n",
    "        tableau_observation = [\n",
    "            [card.value if card.visible else 0 for card in column] for column in self.tableau\n",
    "        ]\n",
    "        foundation_observation = [len(pile) for pile in self.foundation]\n",
    "        draw_pile_observation = self.draw_pile[0].value if self.draw_pile else 0\n",
    "\n",
    "        return {\n",
    "            'tableau': tableau_observation,\n",
    "            'foundation': foundation_observation,\n",
    "            'draw_pile': draw_pile_observation\n",
    "        }\n",
    "\n",
    "    def step(self, action: list[int]):\n",
    "        action_type, source, destination, card_index = action\n",
    "        reward = -1  # Base penalty for each action\n",
    "\n",
    "        if action_type == 0:  # Move Card within Tableau\n",
    "            valid_move_made = self._move_within_tableau(source, destination, card_index)\n",
    "            if valid_move_made:\n",
    "                reward += 0\n",
    "            else:\n",
    "                reward -= 1  # Extra penalty for invalid move\n",
    "\n",
    "        elif action_type == 1:  # Draw Card from Draw Pile\n",
    "            if self.draw_pile:\n",
    "                drawn_card = self.draw_pile.pop(0)\n",
    "                drawn_card.visible = True  # Drawn card should be face-up\n",
    "                self.tableau[0].append(drawn_card)  # Place the card on the first tableau column\n",
    "\n",
    "        elif action_type == 2:  # Move Card to Foundation\n",
    "            foundation_move_successful = self._move_to_foundation(source)\n",
    "            if foundation_move_successful:\n",
    "                reward += 130\n",
    "\n",
    "        flipped_count = self._flip_visible_cards()\n",
    "        reward += flipped_count * 20\n",
    "\n",
    "        # Check if game is won (all foundations complete)\n",
    "        if all(len(foundation) == 13 for foundation in self.foundation):\n",
    "            self.done = True\n",
    "\n",
    "        return self._get_observation(), reward, self.done, {}\n",
    "\n",
    "    def _draw_card(self):\n",
    "        # Reveal up to 3 cards at a time from the draw pile\n",
    "        \n",
    "        if self.draw_index >= len(self.draw_pile):\n",
    "            self.draw_index = 0  # Restart the draw pile if we reach the end\n",
    "        if self.draw_pile:\n",
    "            card = self.draw_pile[self.draw_index]\n",
    "            card.visible = True\n",
    "            self.revealed_cards.append(card)\n",
    "            self.draw_index += 1\n",
    "\n",
    "\n",
    "    def _move_within_tableau(self, source, destination, card_index=None):\n",
    "        # If the source is from the draw pile (denoted by a special index, say -1)\n",
    "        if source == -1:\n",
    "            if not self.revealed_cards:\n",
    "                return False  # No cards revealed in the draw pile\n",
    "            # Use the last revealed card from the draw pile\n",
    "            card_to_move = self.revealed_cards[-1]\n",
    "            \n",
    "            # Check if destination column is empty (only Kings can move to empty columns)\n",
    "            if not self.tableau[destination]:\n",
    "                if card_to_move.value == 13:\n",
    "                    self.tableau[destination].append(card_to_move)\n",
    "                    self.revealed_cards.pop()  # Remove from revealed list\n",
    "                    return True\n",
    "                else:\n",
    "                    return False  # Only Kings can move to an empty column\n",
    "\n",
    "            # Check if the move is valid based on the destination column's top card\n",
    "            dest_card = self.tableau[destination][-1]\n",
    "            if (card_to_move.value == dest_card.value - 1 and\n",
    "                    (card_to_move.suit % 2) != (dest_card.suit % 2)):\n",
    "                self.tableau[destination].append(card_to_move)\n",
    "                self.revealed_cards.pop()  # Remove from revealed list\n",
    "                return True\n",
    "\n",
    "            return False  # Invalid move for draw pile card\n",
    "        \n",
    "        # Validate source and destination columns\n",
    "        if source < 0 or source >= len(self.tableau) or destination < 0 or destination >= len(self.tableau):\n",
    "            return False  # Invalid source or destination\n",
    "        \n",
    "        # Check if the source column is non-empty and contains enough cards for the card index\n",
    "        if not self.tableau[source] or (card_index is not None and card_index >= len(self.tableau[source])):\n",
    "            return False\n",
    "        \n",
    "        # If no card_index is specified, assume we're moving the top card\n",
    "        if card_index is None:\n",
    "            card_index = len(self.tableau[source]) - 1\n",
    "\n",
    "        cards_to_move = self.tableau[source][card_index:]\n",
    "\n",
    "        # Check if destination column is empty (only Kings can be moved to an empty column)\n",
    "        if not self.tableau[destination]:\n",
    "            if cards_to_move[0].value == 13:\n",
    "                # Move the sequence\n",
    "                self.tableau[destination].extend(cards_to_move)\n",
    "                del self.tableau[source][card_index:]\n",
    "                return True\n",
    "            else:\n",
    "                return False  # Only Kings can be moved to an empty column\n",
    "\n",
    "        # Check if the move is valid based on the destination column’s top card\n",
    "        dest_card = self.tableau[destination][-1]\n",
    "        if (cards_to_move[0].value == dest_card.value - 1 and\n",
    "                (cards_to_move[0].suit % 2) != (dest_card.suit % 2)):\n",
    "            # Move the sequence\n",
    "            self.tableau[destination].extend(cards_to_move)\n",
    "            del self.tableau[source][card_index:]\n",
    "            return True\n",
    "        \n",
    "        return False  # Move was invalid\n",
    "    \n",
    "\n",
    "    def _move_to_foundation(self, source):\n",
    "        # If source is the draw pile (denoted by -1), take the last revealed card\n",
    "        if source == -1:\n",
    "            if not self.revealed_cards:\n",
    "                return False  # No revealed cards in draw pile\n",
    "            card = self.revealed_cards[-1]\n",
    "            foundation_index = card.suit - 1  # Determine foundation based on suit\n",
    "\n",
    "            if len(self.foundation[foundation_index]) == card.value - 1:\n",
    "                # Move the card to the foundation and remove from revealed list\n",
    "                self.foundation[foundation_index].append(card)\n",
    "                self.revealed_cards.pop()\n",
    "                return True\n",
    "\n",
    "            return False  # Invalid move\n",
    "        \n",
    "        # Validate source column\n",
    "        if source < 0 or source >= len(self.tableau) or not self.tableau[source]:\n",
    "            return False  # Invalid move, no card to move\n",
    "        \n",
    "        # Get the top card from the source column\n",
    "        card = self.tableau[source][-1]\n",
    "        foundation_index = card.suit - 1  # Determine foundation pile based on suit\n",
    "        \n",
    "        # Check if the card can move to the foundation (must be in ascending order)\n",
    "        if len(self.foundation[foundation_index]) == card.value - 1:\n",
    "            # Move the card to the foundation and remove from tableau\n",
    "            self.foundation[foundation_index].append(self.tableau[source].pop())\n",
    "            return True\n",
    "        \n",
    "        return False  # Move was invalid\n",
    "    \n",
    "\n",
    "    def _flip_visible_cards(self):\n",
    "        flipped_count = 0\n",
    "        for column in self.tableau:\n",
    "            if column and not column[-1].visible:  # If the top card is face-down\n",
    "                column[-1].visible = True  # Flip it face-up\n",
    "                flipped_count += 1\n",
    "        return flipped_count\n",
    "\n",
    "\n",
    "\n",
    "\n",
    "    def render(self, mode='human'):\n",
    "        # Foundations\n",
    "        foundation_str = []\n",
    "        for pile in self.foundation:\n",
    "            if pile:\n",
    "                card = pile[-1]\n",
    "                suit = ['♣', '♦', '♠', '♥'][card.suit - 1]\n",
    "                # Apply color red for red suits (Diamonds and Hearts)\n",
    "                if card.suit in [2, 4]:  # Red suits: Diamonds (2) and Hearts (4)\n",
    "                    suit = Text(suit, style=\"red\")  # Red color for red suits\n",
    "                foundation_str.append(f\"| {card.value} {suit} |\")\n",
    "            else:\n",
    "                foundation_str.append(\"|     |\")  # Empty foundation pile\n",
    "\n",
    "        # Print foundation row\n",
    "        console.print(\"Foundations:\", \"  \".join(foundation_str))\n",
    "\n",
    "        # Tableau - display all 7 columns in a single row\n",
    "        tableau_str = []\n",
    "        for col in self.tableau:\n",
    "            tableau_str.append(\" \".join([f\"┌─────┐\" if card.visible else \"┌─────┐\" for card in col]))  # Card tops\n",
    "            tableau_str.append(\" \".join([f\"| {card.value if card.visible else ' ?'}{' ' if card.visible and len(str(card.value)) != 2 else ''}{[' ♣', '[bold red] ♦[/bold red]', ' ♠', '[bold red] ♥[/bold red]'][card.suit - 1] if card.visible else '  '}|\" for card in col]))  # Card values\n",
    "            tableau_str.append(\" \".join([f\"|     |\" for _ in col]))  # Empty space for spacing between cards\n",
    "            tableau_str.append(\" \".join([f\"└─────┘\" for _ in col]))  # Card bottoms\n",
    "\n",
    "        # Print tableau columns in one row\n",
    "        tableau_str = '\\n'.join(tableau_str)\n",
    "        console.print(\"Tableau:\\n\" + tableau_str)\n",
    "\n",
    "        # Draw pile (remaining count, last 3 revealed, discarded count)\n",
    "        draw_pile_display = f\"Draw Pile: {len(self.draw_pile)} cards remaining\"\n",
    "        \n",
    "        # Last 3 revealed cards (if any)\n",
    "        last_three = [str(card.value) if card.visible else '?' for card in self.draw_pile[:3]]\n",
    "        last_three_display = f\"\\nLast 3 Drawn: {' '.join(last_three)}\"\n",
    "        \n",
    "        # Discarded cards (number of discarded cards)\n",
    "\n",
    "        # Print the full draw pile row\n",
    "        console.print(draw_pile_display, last_three_display)\n",
    "\n",
    "\n",
    "\n",
    "\n"
   ]
  },
  {
   "cell_type": "code",
   "execution_count": 6,
   "metadata": {},
   "outputs": [
    {
     "data": {
      "text/html": [
       "<pre style=\"white-space:pre;overflow-x:auto;line-height:normal;font-family:Menlo,'DejaVu Sans Mono',consolas,'Courier New',monospace\">Foundations: |     |  |     |  |     |  |     |\n",
       "</pre>\n"
      ],
      "text/plain": [
       "Foundations: |     |  |     |  |     |  |     |\n"
      ]
     },
     "metadata": {},
     "output_type": "display_data"
    },
    {
     "data": {
      "text/html": [
       "<pre style=\"white-space:pre;overflow-x:auto;line-height:normal;font-family:Menlo,'DejaVu Sans Mono',consolas,'Courier New',monospace\">Tableau:\n",
       "┌─────┐\n",
       "| <span style=\"color: #008080; text-decoration-color: #008080; font-weight: bold\">13</span><span style=\"color: #800000; text-decoration-color: #800000; font-weight: bold\"> ♥</span>|\n",
       "|     |\n",
       "└─────┘\n",
       "┌─────┐ ┌─────┐\n",
       "|  ?  | | <span style=\"color: #008080; text-decoration-color: #008080; font-weight: bold\">13</span> ♣|\n",
       "|     | |     |\n",
       "└─────┘ └─────┘\n",
       "┌─────┐ ┌─────┐ ┌─────┐\n",
       "|  ?  | |  ?  | | <span style=\"color: #008080; text-decoration-color: #008080; font-weight: bold\">4</span>  ♣|\n",
       "|     | |     | |     |\n",
       "└─────┘ └─────┘ └─────┘\n",
       "┌─────┐ ┌─────┐ ┌─────┐ ┌─────┐\n",
       "|  ?  | |  ?  | |  ?  | | <span style=\"color: #008080; text-decoration-color: #008080; font-weight: bold\">2</span> <span style=\"color: #800000; text-decoration-color: #800000; font-weight: bold\"> ♦</span>|\n",
       "|     | |     | |     | |     |\n",
       "└─────┘ └─────┘ └─────┘ └─────┘\n",
       "┌─────┐ ┌─────┐ ┌─────┐ ┌─────┐ ┌─────┐\n",
       "|  ?  | |  ?  | |  ?  | |  ?  | | <span style=\"color: #008080; text-decoration-color: #008080; font-weight: bold\">12</span> ♠|\n",
       "|     | |     | |     | |     | |     |\n",
       "└─────┘ └─────┘ └─────┘ └─────┘ └─────┘\n",
       "┌─────┐ ┌─────┐ ┌─────┐ ┌─────┐ ┌─────┐ ┌─────┐\n",
       "|  ?  | |  ?  | |  ?  | |  ?  | |  ?  | | <span style=\"color: #008080; text-decoration-color: #008080; font-weight: bold\">5</span> <span style=\"color: #800000; text-decoration-color: #800000; font-weight: bold\"> ♥</span>|\n",
       "|     | |     | |     | |     | |     | |     |\n",
       "└─────┘ └─────┘ └─────┘ └─────┘ └─────┘ └─────┘\n",
       "┌─────┐ ┌─────┐ ┌─────┐ ┌─────┐ ┌─────┐ ┌─────┐ ┌─────┐\n",
       "|  ?  | |  ?  | |  ?  | |  ?  | |  ?  | |  ?  | | <span style=\"color: #008080; text-decoration-color: #008080; font-weight: bold\">8</span>  ♣|\n",
       "|     | |     | |     | |     | |     | |     | |     |\n",
       "└─────┘ └─────┘ └─────┘ └─────┘ └─────┘ └─────┘ └─────┘\n",
       "</pre>\n"
      ],
      "text/plain": [
       "Tableau:\n",
       "┌─────┐\n",
       "| \u001b[1;36m13\u001b[0m\u001b[1;31m ♥\u001b[0m|\n",
       "|     |\n",
       "└─────┘\n",
       "┌─────┐ ┌─────┐\n",
       "|  ?  | | \u001b[1;36m13\u001b[0m ♣|\n",
       "|     | |     |\n",
       "└─────┘ └─────┘\n",
       "┌─────┐ ┌─────┐ ┌─────┐\n",
       "|  ?  | |  ?  | | \u001b[1;36m4\u001b[0m  ♣|\n",
       "|     | |     | |     |\n",
       "└─────┘ └─────┘ └─────┘\n",
       "┌─────┐ ┌─────┐ ┌─────┐ ┌─────┐\n",
       "|  ?  | |  ?  | |  ?  | | \u001b[1;36m2\u001b[0m \u001b[1;31m ♦\u001b[0m|\n",
       "|     | |     | |     | |     |\n",
       "└─────┘ └─────┘ └─────┘ └─────┘\n",
       "┌─────┐ ┌─────┐ ┌─────┐ ┌─────┐ ┌─────┐\n",
       "|  ?  | |  ?  | |  ?  | |  ?  | | \u001b[1;36m12\u001b[0m ♠|\n",
       "|     | |     | |     | |     | |     |\n",
       "└─────┘ └─────┘ └─────┘ └─────┘ └─────┘\n",
       "┌─────┐ ┌─────┐ ┌─────┐ ┌─────┐ ┌─────┐ ┌─────┐\n",
       "|  ?  | |  ?  | |  ?  | |  ?  | |  ?  | | \u001b[1;36m5\u001b[0m \u001b[1;31m ♥\u001b[0m|\n",
       "|     | |     | |     | |     | |     | |     |\n",
       "└─────┘ └─────┘ └─────┘ └─────┘ └─────┘ └─────┘\n",
       "┌─────┐ ┌─────┐ ┌─────┐ ┌─────┐ ┌─────┐ ┌─────┐ ┌─────┐\n",
       "|  ?  | |  ?  | |  ?  | |  ?  | |  ?  | |  ?  | | \u001b[1;36m8\u001b[0m  ♣|\n",
       "|     | |     | |     | |     | |     | |     | |     |\n",
       "└─────┘ └─────┘ └─────┘ └─────┘ └─────┘ └─────┘ └─────┘\n"
      ]
     },
     "metadata": {},
     "output_type": "display_data"
    },
    {
     "data": {
      "text/html": [
       "<pre style=\"white-space:pre;overflow-x:auto;line-height:normal;font-family:Menlo,'DejaVu Sans Mono',consolas,'Courier New',monospace\">Draw Pile: <span style=\"color: #008080; text-decoration-color: #008080; font-weight: bold\">24</span> cards remaining \n",
       "Last <span style=\"color: #008080; text-decoration-color: #008080; font-weight: bold\">3</span> Drawn: ? ? ?\n",
       "</pre>\n"
      ],
      "text/plain": [
       "Draw Pile: \u001b[1;36m24\u001b[0m cards remaining \n",
       "Last \u001b[1;36m3\u001b[0m Drawn: ? ? ?\n"
      ]
     },
     "metadata": {},
     "output_type": "display_data"
    }
   ],
   "source": [
    "env = SolitaireEnv()\n",
    "\n",
    "# Reset the environment to get the initial state\n",
    "env.reset()\n",
    "\n",
    "# Render the initial state\n",
    "env.render()"
   ]
  },
  {
   "cell_type": "code",
   "execution_count": 131,
   "metadata": {},
   "outputs": [
    {
     "data": {
      "text/html": [
       "<pre style=\"white-space:pre;overflow-x:auto;line-height:normal;font-family:Menlo,'DejaVu Sans Mono',consolas,'Courier New',monospace\"><span style=\"color: #008000; text-decoration-color: #008000; font-weight: bold\">Hello </span><span style=\"color: #800000; text-decoration-color: #800000; font-weight: bold\">World</span>\n",
       "</pre>\n"
      ],
      "text/plain": [
       "\u001b[1;32mHello \u001b[0m\u001b[1;31mWorld\u001b[0m\n"
      ]
     },
     "metadata": {},
     "output_type": "display_data"
    }
   ],
   "source": [
    "from rich.console import Console\n",
    "from rich.text import Text\n",
    "\n",
    "console = Console()\n",
    "\n",
    "# Create text with different styles\n",
    "text_part1 = Text(\"Hello \", style=\"bold green\")  # Bold green\n",
    "text_part2 = Text(\"World\", style=\"bold red\")    # Bold red\n",
    "\n",
    "# Print them in a single call\n",
    "console.print(text_part1 + text_part2)\n"
   ]
  }
 ],
 "metadata": {
  "kernelspec": {
   "display_name": "Python 3",
   "language": "python",
   "name": "python3"
  },
  "language_info": {
   "codemirror_mode": {
    "name": "ipython",
    "version": 3
   },
   "file_extension": ".py",
   "mimetype": "text/x-python",
   "name": "python",
   "nbconvert_exporter": "python",
   "pygments_lexer": "ipython3",
   "version": "3.10.11"
  }
 },
 "nbformat": 4,
 "nbformat_minor": 2
}
